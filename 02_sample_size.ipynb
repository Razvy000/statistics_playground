{
 "cells": [
  {
   "cell_type": "markdown",
   "metadata": {},
   "source": [
    "# Sample Size "
   ]
  },
  {
   "cell_type": "code",
   "execution_count": 1,
   "metadata": {
    "collapsed": true
   },
   "outputs": [],
   "source": [
    "# calculators\n",
    "# http://www.evanmiller.org/ab-testing/sample-size.html\n",
    "# https://www.optimizely.com/sample-size-calculator/\n",
    "# https://docs.adobe.com/content/target-microsite/testcalculator.html"
   ]
  },
  {
   "cell_type": "code",
   "execution_count": 2,
   "metadata": {
    "collapsed": true
   },
   "outputs": [],
   "source": [
    "from math import *\n",
    "from scipy.stats import norm as norm"
   ]
  },
  {
   "cell_type": "code",
   "execution_count": 3,
   "metadata": {
    "collapsed": true
   },
   "outputs": [],
   "source": [
    "def ppnd(p):\n",
    "    a0 = 2.50662823884\n",
    "    a1 = -18.61500062529\n",
    "    a2 = 41.39119773534\n",
    "    a3 = -25.44106049637\n",
    "    b1 = -8.47351093090\n",
    "    b2 = 23.08336743743\n",
    "    b3 = -21.06224101826\n",
    "    b4 = 3.13082909833\n",
    "    c0 = -2.78718931138\n",
    "    c1 = -2.29796479134\n",
    "    c2 = 4.85014127135\n",
    "    c3 = 2.32121276858\n",
    "    d1 = 3.54388924762\n",
    "    d2 = 1.63706781897\n",
    "    r = 0\n",
    "    split = 0.42\n",
    "    value =0\n",
    "\n",
    "    # 0.08 < P < 0.92\n",
    "    if abs(p - 0.5) <= split:\n",
    "        r = (p - 0.5) * (p - 0.5)\n",
    "\n",
    "        value = (p - 0.5) * (((\n",
    "                    a3 * r +\n",
    "                    a2) * r +\n",
    "                a1) * r +\n",
    "            a0) / ((((\n",
    "                        b4 * r +\n",
    "                        b3) * r +\n",
    "                    b2) * r +\n",
    "                b1) * r +\n",
    "            1.0)\n",
    "    \n",
    "    # P < 0.08 or P > 0.92\n",
    "    # R = min ( P, 1-P )\n",
    "    elif 0.0 < p and p < 1.0:\n",
    "        if 0.5 < p:\n",
    "            r = sqrt(-log(1.0 - p))\n",
    "        else:\n",
    "            r = sqrt(-log(p))\n",
    "        \n",
    "\n",
    "        value = (((\n",
    "                    c3 * r +\n",
    "                    c2) * r +\n",
    "                c1) * r +\n",
    "            c0) / ((\n",
    "                d2 * r +\n",
    "                d1) * r +\n",
    "            1.0)\n",
    "\n",
    "        if p < 0.5:\n",
    "            value = -value\n",
    "        \n",
    "    \n",
    "    # P <= 0.0 or 1.0 <= P\n",
    "    else:\n",
    "        value = None\n",
    "    \n",
    "\n",
    "    return value"
   ]
  },
  {
   "cell_type": "code",
   "execution_count": 4,
   "metadata": {
    "collapsed": true
   },
   "outputs": [],
   "source": [
    "def num_subjects(alpha, power_level, p, delta):\n",
    "    if p > 0.5:\n",
    "        p = 1 - p\n",
    "    \n",
    "    alpha2 = ppnd(1-alpha/2)\n",
    "    beta = ppnd(power_level)\n",
    "    \n",
    "    sd1 = sqrt(2 * p * (1 - p))\n",
    "    sd2 = sqrt(p * (1 - p) + (p + delta) * (1 - p - delta))\n",
    "    \n",
    "    return (alpha2 * sd1 + beta * sd2) ** 2 / delta ** 2"
   ]
  },
  {
   "cell_type": "code",
   "execution_count": 5,
   "metadata": {
    "collapsed": true
   },
   "outputs": [],
   "source": [
    "# rewrite remove ppnd\n",
    "def num_subjects_2(alpha, power_level, p, delta):\n",
    "    if p > 0.5:\n",
    "        p = 1 - p\n",
    "    \n",
    "    alpha2 =  -1 * norm.isf([1-alpha/2])[0] # ppnd(1-alpha/2)\n",
    "    beta = -1 * norm.isf([power_level])[0] # ppnd(power_level)\n",
    "    \n",
    "    sd1 = sqrt(2 * p * (1 - p))\n",
    "    sd2 = sqrt(p * (1 - p) + (p + delta) * (1 - p - delta))\n",
    "    \n",
    "    return (alpha2 * sd1 + beta * sd2) ** 2 / delta ** 2"
   ]
  },
  {
   "cell_type": "code",
   "execution_count": 6,
   "metadata": {
    "collapsed": true
   },
   "outputs": [],
   "source": [
    "def sample_power_probtest(p1, p2, power=0.8, sig=0.05):\n",
    "    z = norm.isf([sig/2]) #two-sided t test\n",
    "    zp = -1 * norm.isf([power]) \n",
    "    d = (p1-p2)\n",
    "    s =2*((p1+p2) /2)*(1-((p1+p2) /2))\n",
    "    n = s * ((zp + z)**2) / (d**2)\n",
    "    #return int(round(n[0]))\n",
    "    #return int(n[0])\n",
    "    return n[0]"
   ]
  },
  {
   "cell_type": "code",
   "execution_count": 7,
   "metadata": {},
   "outputs": [
    {
     "name": "stdout",
     "output_type": "stream",
     "text": [
      "14312.856232802844\n",
      "14312.8562419\n",
      "14751.9694607\n"
     ]
    }
   ],
   "source": [
    "sign = 0.05\n",
    "power = 0.8\n",
    "base_conv = 0.1\n",
    "detectable_effect_rel = 0.1\n",
    "\n",
    "print(num_subjects(sign, power, base_conv, detectable_effect_rel*base_conv))\n",
    "print(num_subjects_2(sign, power, base_conv, detectable_effect_rel*base_conv))\n",
    "print(sample_power_probtest(base_conv, base_conv*(1+detectable_effect_rel), power, sign))"
   ]
  },
  {
   "cell_type": "code",
   "execution_count": null,
   "metadata": {
    "collapsed": true
   },
   "outputs": [],
   "source": []
  }
 ],
 "metadata": {
  "kernelspec": {
   "display_name": "Python 3",
   "language": "python",
   "name": "python3"
  },
  "language_info": {
   "codemirror_mode": {
    "name": "ipython",
    "version": 3
   },
   "file_extension": ".py",
   "mimetype": "text/x-python",
   "name": "python",
   "nbconvert_exporter": "python",
   "pygments_lexer": "ipython3",
   "version": "3.6.0"
  }
 },
 "nbformat": 4,
 "nbformat_minor": 2
}
